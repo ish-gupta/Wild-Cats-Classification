{
 "cells": [
  {
   "cell_type": "code",
   "execution_count": 1,
   "metadata": {},
   "outputs": [],
   "source": [
    "#Importing Libraries \n",
    "\n",
    "import numpy as np\n",
    "import os\n",
    "import random\n",
    "import matplotlib.pyplot as plt\n",
    "import pathlib\n",
    "import cv2\n",
    "import tensorflow as tf\n",
    "\n",
    "from tensorflow import keras\n",
    "from tensorflow.keras import layers\n",
    "from tensorflow.keras.models import Sequential"
   ]
  },
  {
   "cell_type": "code",
   "execution_count": 2,
   "metadata": {},
   "outputs": [
    {
     "name": "stdout",
     "output_type": "stream",
     "text": [
      "['test', 'train', 'val']\n"
     ]
    }
   ],
   "source": [
    "# Printing the folders in our dataset\n",
    "\n",
    "print(os.listdir (r\"C:\\Users\\DELL\\Documents\\imageprocessing\\Cheetahs-vs-Jaguars\"))"
   ]
  },
  {
   "cell_type": "code",
   "execution_count": 3,
   "metadata": {},
   "outputs": [
    {
     "name": "stdout",
     "output_type": "stream",
     "text": [
      "['cheetah_train', 'jaguar_train'] ['cheetah_validation', 'jaguar_validation']\n"
     ]
    }
   ],
   "source": [
    "# Printing the sub-folders of the dataset\n",
    "\n",
    "train_directory = r\"C:\\Users\\DELL\\Documents\\imageprocessing\\Cheetahs-vs-Jaguars\\train\"\n",
    "train_folder = os.listdir(train_directory)\n",
    "\n",
    "validation_directory = r\"C:\\Users\\DELL\\Documents\\imageprocessing\\Cheetahs-vs-Jaguars\\val\"\n",
    "validation_folder = os.listdir(validation_directory)\n",
    "\n",
    "print(train_folder, validation_folder)"
   ]
  },
  {
   "cell_type": "code",
   "execution_count": 4,
   "metadata": {},
   "outputs": [
    {
     "name": "stdout",
     "output_type": "stream",
     "text": [
      "C:\\Users\\DELL\\Documents\\imageprocessing\\Cheetahs-vs-Jaguars\\train\\cheetah_train\n",
      "Label: 0\n",
      "C:\\Users\\DELL\\Documents\\imageprocessing\\Cheetahs-vs-Jaguars\\train\\jaguar_train\n",
      "Label: 1\n"
     ]
    }
   ],
   "source": [
    "#Preprocessing Train Data\n",
    "\n",
    "image_size = 300\n",
    "train_data = []\n",
    "\n",
    "for folder in train_folder:\n",
    "    folder_path = train_directory\n",
    "    folder_path = os.path.join(folder_path,folder)\n",
    "    label = train_folder.index(folder) #assigns label of Cheetah as 0 and label of Jaguar as 1\n",
    "\n",
    "    print(folder_path)\n",
    "    print(\"Label:\", label)\n",
    "    \n",
    "    for image in os.listdir(folder_path):\n",
    "        image_path = os.path.join(folder_path,image)\n",
    "        image_arr = cv2.imread(image_path)\n",
    "        image_arr = cv2.resize(image_arr,(image_size,image_size))\n",
    "        train_data.append([image_arr,label])"
   ]
  },
  {
   "cell_type": "code",
   "execution_count": 5,
   "metadata": {},
   "outputs": [
    {
     "name": "stdout",
     "output_type": "stream",
     "text": [
      "C:\\Users\\DELL\\Documents\\imageprocessing\\Cheetahs-vs-Jaguars\\val\\cheetah_validation\n",
      "Label: 0\n",
      "C:\\Users\\DELL\\Documents\\imageprocessing\\Cheetahs-vs-Jaguars\\val\\jaguar_validation\n",
      "Label: 1\n"
     ]
    }
   ],
   "source": [
    "#Preprocessing Validation Data\n",
    "\n",
    "image_size = 300\n",
    "validation_data = []\n",
    "\n",
    "for folder in validation_folder:\n",
    "    folder_path = validation_directory\n",
    "    folder_path = os.path.join(validation_directory,folder)\n",
    "    label = validation_folder.index(folder) #assigns label of Cheetah as 0 and label of Jaguar as 1\n",
    "    print(folder_path)\n",
    "    print(\"Label:\", label)\n",
    "    \n",
    "    for image in os.listdir(folder_path):\n",
    "        image_path = os.path.join(folder_path,image)\n",
    "        image_arr = cv2.imread(image_path)\n",
    "        image_arr = cv2.resize(image_arr,(image_size,image_size))\n",
    "        validation_data.append([image_arr,label])"
   ]
  },
  {
   "cell_type": "code",
   "execution_count": 6,
   "metadata": {},
   "outputs": [
    {
     "data": {
      "text/plain": [
       "(1800, 200)"
      ]
     },
     "execution_count": 6,
     "metadata": {},
     "output_type": "execute_result"
    }
   ],
   "source": [
    "len(train_data),len(validation_data)"
   ]
  },
  {
   "cell_type": "code",
   "execution_count": 7,
   "metadata": {},
   "outputs": [],
   "source": [
    "#Train Data\n",
    "#Dividing features and labels to X and y respectively.\n",
    "\n",
    "X_train = []\n",
    "y_train = []\n",
    "\n",
    "for features, labels in train_data:\n",
    "    X_train.append(features)\n",
    "    y_train.append(labels)"
   ]
  },
  {
   "cell_type": "code",
   "execution_count": 8,
   "metadata": {},
   "outputs": [],
   "source": [
    "#Test Data\n",
    "#Dividing features and labels to X and y respectively.\n",
    "\n",
    "X_test = []\n",
    "y_test = []\n",
    "\n",
    "for features, labels in validation_data:\n",
    "    X_test.append(features)\n",
    "    y_test.append(labels)"
   ]
  },
  {
   "cell_type": "code",
   "execution_count": 9,
   "metadata": {},
   "outputs": [],
   "source": [
    "#Converting list to array\n",
    "\n",
    "X_train = np.array(X_train)\n",
    "y_train = np.array(y_train)\n",
    "\n",
    "X_test = np.array(X_test)\n",
    "y_test = np.array(y_test)"
   ]
  },
  {
   "cell_type": "code",
   "execution_count": 10,
   "metadata": {},
   "outputs": [
    {
     "data": {
      "text/plain": [
       "((1800, 300, 300, 3), (1800,), (200, 300, 300, 3), (200,))"
      ]
     },
     "execution_count": 10,
     "metadata": {},
     "output_type": "execute_result"
    }
   ],
   "source": [
    "X_train.shape, y_train.shape, X_test.shape, y_test.shape"
   ]
  },
  {
   "cell_type": "code",
   "execution_count": 11,
   "metadata": {},
   "outputs": [],
   "source": [
    "#Convert array datatype to float for division\n",
    "#Dividing array values by 255 normalizes the pixel values between 0 and 1 \n",
    "\n",
    "X_train = X_train.astype('float32')\n",
    "X_train = X_train / 255.0\n",
    "\n",
    "X_test = X_test.astype('float32')\n",
    "X_test = X_test / 255.0"
   ]
  },
  {
   "cell_type": "code",
   "execution_count": 12,
   "metadata": {},
   "outputs": [],
   "source": [
    "#Building the model using the concepts of Convolutional Neural Networks (CNNs)\n",
    "\n",
    "model = keras.Sequential()\n",
    "\n",
    "# Convolutional layer and maxpool layer 1\n",
    "model.add(keras.layers.Conv2D(32,(3,3),activation='relu',input_shape=(300,300,3)))\n",
    "model.add(keras.layers.MaxPool2D(2,2))\n",
    "\n",
    "# Convolutional layer and maxpool layer 2\n",
    "model.add(keras.layers.Conv2D(64,(3,3),activation='relu'))\n",
    "model.add(keras.layers.MaxPool2D(2,2))\n",
    "\n",
    "# Convolutional layer and maxpool layer 3\n",
    "model.add(keras.layers.Conv2D(128,(3,3),activation='relu'))\n",
    "model.add(keras.layers.MaxPool2D(2,2))\n",
    "\n",
    "# Convolutional layer and maxpool layer 4\n",
    "model.add(keras.layers.Conv2D(128,(3,3),activation='relu'))\n",
    "model.add(keras.layers.MaxPool2D(2,2))\n",
    "\n",
    "# This layer flattens the resulting image array to 1D array\n",
    "model.add(keras.layers.Flatten())\n",
    "\n",
    "# Hidden layer with 512 neurons and Rectified Linear Unit activation function \n",
    "model.add(keras.layers.Dense(512,activation='relu'))\n",
    "\n",
    "# Output layer with single neuron which gives 0 for Cheetah or 1 for Jaguar \n",
    "#Here we use sigmoid activation function which makes our model output to lie between 0 and 1\n",
    "model.add(keras.layers.Dense(1,activation='sigmoid'))"
   ]
  },
  {
   "cell_type": "code",
   "execution_count": 13,
   "metadata": {},
   "outputs": [],
   "source": [
    "model.compile(optimizer='adam',loss='binary_crossentropy',metrics=['accuracy'])"
   ]
  },
  {
   "cell_type": "code",
   "execution_count": null,
   "metadata": {},
   "outputs": [
    {
     "name": "stdout",
     "output_type": "stream",
     "text": [
      "Epoch 1/10\n"
     ]
    }
   ],
   "source": [
    "#Fitting the model to the training datset and validating the same using the validation dataset\n",
    "\n",
    "history = model.fit(X_train, y_train, steps_per_epoch = 30, epochs = 10,validation_data = (X_test, y_test), verbose = 2)"
   ]
  },
  {
   "cell_type": "code",
   "execution_count": null,
   "metadata": {},
   "outputs": [],
   "source": [
    "#Visualisation of training results\n",
    "\n",
    "acc = history.history['accuracy']\n",
    "val_acc = history.history['val_accuracy']\n",
    "loss = history.history['loss']\n",
    "val_loss = history.history['val_loss']\n",
    "\n",
    "epochs_range = range(10)\n",
    "\n",
    "plt.figure(figsize=(15, 15))\n",
    "plt.subplot(2, 2, 1)\n",
    "plt.plot(epochs_range, acc, label='Training Accuracy')\n",
    "plt.plot(epochs_range, val_acc, label='Validation Accuracy')\n",
    "plt.legend(loc='lower right')\n",
    "plt.title('Training and Validation Accuracy')\n",
    "\n",
    "plt.subplot(2, 2, 2)\n",
    "plt.plot(epochs_range, loss, label='Training Loss')\n",
    "plt.plot(epochs_range, val_loss, label='Validation Loss')\n",
    "plt.legend(loc='upper right')\n",
    "plt.title('Training and Validation Loss')\n",
    "plt.show()"
   ]
  },
  {
   "cell_type": "code",
   "execution_count": null,
   "metadata": {},
   "outputs": [],
   "source": [
    "#Saving the model as hdf5 file so that it can be used for classification later\n",
    "\n",
    "tf.keras.models.save_model(model,'model_2.hdf5')"
   ]
  },
  {
   "cell_type": "code",
   "execution_count": null,
   "metadata": {},
   "outputs": [],
   "source": [
    "#Creating a function that can be called to classify an image\n",
    "\n",
    "from tensorflow.keras.preprocessing import image\n",
    "def predictImage(filename):\n",
    "    img1 = image.load_img(filename,target_size=(300,300))\n",
    "    \n",
    "    plt.imshow(img1)\n",
    " \n",
    "    Y = image.img_to_array(img1)\n",
    "    \n",
    "    X = np.expand_dims(Y,axis=0)\n",
    "    val = model.predict(X) #val returns the predicted label \n",
    "    print(val)\n",
    "    if val == 1:\n",
    "        plt.xlabel(\"Jaguar\",fontsize=30)\n",
    "    else:\n",
    "        plt.xlabel(\"Cheetah\",fontsize=30)"
   ]
  },
  {
   "cell_type": "code",
   "execution_count": null,
   "metadata": {},
   "outputs": [],
   "source": [
    "predictImage(r\"C:\\Users\\DELL\\Documents\\imageprocessing\\Cheetahs-vs-Jaguars\\test\\jaguars.jpg\")"
   ]
  },
  {
   "cell_type": "code",
   "execution_count": null,
   "metadata": {},
   "outputs": [],
   "source": [
    "predictImage(r\"C:\\Users\\DELL\\Documents\\imageprocessing\\Cheetahs-vs-Jaguars\\test\\iim.jpg\")"
   ]
  }
 ],
 "metadata": {
  "kernelspec": {
   "display_name": "Python 3",
   "language": "python",
   "name": "python3"
  },
  "language_info": {
   "codemirror_mode": {
    "name": "ipython",
    "version": 3
   },
   "file_extension": ".py",
   "mimetype": "text/x-python",
   "name": "python",
   "nbconvert_exporter": "python",
   "pygments_lexer": "ipython3",
   "version": "3.8.5"
  }
 },
 "nbformat": 4,
 "nbformat_minor": 4
}
